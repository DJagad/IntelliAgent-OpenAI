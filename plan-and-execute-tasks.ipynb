{
 "cells": [
  {
   "cell_type": "code",
   "execution_count": 26,
   "metadata": {},
   "outputs": [],
   "source": [
    "import os\n",
    "from dotenv import load_dotenv"
   ]
  },
  {
   "cell_type": "code",
   "execution_count": 27,
   "metadata": {},
   "outputs": [
    {
     "data": {
      "text/plain": [
       "True"
      ]
     },
     "execution_count": 27,
     "metadata": {},
     "output_type": "execute_result"
    }
   ],
   "source": [
    "load_dotenv()"
   ]
  },
  {
   "cell_type": "code",
   "execution_count": 28,
   "metadata": {},
   "outputs": [],
   "source": [
    "os.environ[\"OPENAI_API_KEY\"]=os.getenv(\"OPENAI_API_KEY\")\n",
    "os.environ[\"TAVILY_API_KEY\"] = os.getenv(\"TAVILY_API_KEY\")"
   ]
  },
  {
   "cell_type": "code",
   "execution_count": 29,
   "metadata": {},
   "outputs": [],
   "source": [
    "os.environ[\"LANGCHAIN_TRACING_V2\"] = \"true\"\n",
    "os.environ[\"LANGCHAIN_API_KEY\"] = os.getenv(\"LANGCHAIN_API_KEY\")\n",
    "os.environ[\"LANGCHAIN_PROJECT\"] = os.getenv(\"LANGCHAIN_PROJECT\")"
   ]
  },
  {
   "cell_type": "code",
   "execution_count": 30,
   "metadata": {},
   "outputs": [],
   "source": [
    "from langchain_community.tools.tavily_search import TavilySearchResults\n",
    "\n",
    "tools = [TavilySearchResults(max_results=3)]"
   ]
  },
  {
   "cell_type": "code",
   "execution_count": 31,
   "metadata": {},
   "outputs": [],
   "source": [
    "from langchain import hub\n",
    "from langchain.agents import create_openai_functions_agent\n",
    "from langchain_openai import ChatOpenAI\n",
    "import langchain\n",
    "\n",
    "#Get the prompt for the using for ChatOpenAI\n",
    "prompt = langchain.hub.pull(\"hwchase17/openai-functions-agent\")\n",
    "\n",
    "#Choose the LLM\n",
    "llm = ChatOpenAI(model=\"gpt-4-turbo-preview\")\n",
    "#llm = ChatOpenAI(model=\"gpt-3.5-turbo-1106\")\n",
    "\n",
    "#Construct the OpenAI Functions Agent\n",
    "agent_rumble = create_openai_functions_agent(llm=llm, prompt=prompt, tools=tools)"
   ]
  },
  {
   "cell_type": "code",
   "execution_count": 32,
   "metadata": {},
   "outputs": [
    {
     "data": {
      "text/plain": [
       "[SystemMessagePromptTemplate(prompt=PromptTemplate(input_variables=[], template='You are a helpful assistant')),\n",
       " MessagesPlaceholder(variable_name='chat_history', optional=True),\n",
       " HumanMessagePromptTemplate(prompt=PromptTemplate(input_variables=['input'], template='{input}')),\n",
       " MessagesPlaceholder(variable_name='agent_scratchpad')]"
      ]
     },
     "execution_count": 32,
     "metadata": {},
     "output_type": "execute_result"
    }
   ],
   "source": [
    "prompt.messages"
   ]
  },
  {
   "cell_type": "code",
   "execution_count": 33,
   "metadata": {},
   "outputs": [],
   "source": [
    "from langgraph.prebuilt import create_agent_executor\n",
    "\n",
    "agent_executor = create_agent_executor(agent_runnable=agent_rumble, tools= tools)"
   ]
  },
  {
   "cell_type": "code",
   "execution_count": 34,
   "metadata": {},
   "outputs": [
    {
     "data": {
      "text/plain": [
       "{'input': 'Who is the winner of the US Open',\n",
       " 'chat_history': [],\n",
       " 'agent_outcome': AgentFinish(return_values={'output': \"The winner of the US Open in 2023 is Novak Djokovic. He won the men's singles final by defeating Daniil Medvedev with scores of 6-3, 7-6(5), 6-3. This victory marked Djokovic's 24th Grand Slam singles title, tying Margaret Court's record and bolstering his case to be considered one of the greatest tennis players of all time.\"}, log=\"The winner of the US Open in 2023 is Novak Djokovic. He won the men's singles final by defeating Daniil Medvedev with scores of 6-3, 7-6(5), 6-3. This victory marked Djokovic's 24th Grand Slam singles title, tying Margaret Court's record and bolstering his case to be considered one of the greatest tennis players of all time.\"),\n",
       " 'intermediate_steps': [(AgentActionMessageLog(tool='tavily_search_results_json', tool_input={'query': 'US Open 2023 winner'}, log=\"\\nInvoking: `tavily_search_results_json` with `{'query': 'US Open 2023 winner'}`\\n\\n\\n\", message_log=[AIMessage(content='', additional_kwargs={'function_call': {'arguments': '{\"query\":\"US Open 2023 winner\"}', 'name': 'tavily_search_results_json'}}, response_metadata={'token_usage': {'completion_tokens': 23, 'prompt_tokens': 95, 'total_tokens': 118}, 'model_name': 'gpt-4-turbo-preview', 'system_fingerprint': 'fp_122114e45f', 'finish_reason': 'function_call', 'logprobs': None}, id='run-6c50da14-f991-4b84-af8e-355fa48471da-0')]),\n",
       "   '[{\\'url\\': \\'https://www.bbc.com/sport/tennis/66766337\\', \\'content\\': \": Stephen Nolan goes in to find out\\\\nRelated Topics\\\\nTop Stories\\\\nTen Hag on Rashford plus transfer news, WSL deadline day\\\\nSpinner Leach doubtful for second Test in India\\\\nMcIlroy \\'changes tune\\' on LIV players\\' punishment\\\\nElsewhere on the BBC\\\\nDiscover the tropical paradise of Thailand\\\\nFrom the secrets of the South to the mysterious North...\\\\n Djokovic offered to help up Medvedev when the Russian fell to the court in the third set\\\\nDjokovic\\'s relentless returning continued to draw mistakes out of Medvedev, who was serving poorly and making loose errors, at the start of the second set.\\\\n It was clear to see Medvedev had needed to level by taking that second set to stand any real chance of victory and the feeling of the inevitable was heightened by the Russian needing treatment on a shoulder injury before the third set.\\\\n Djokovic shows again why he can never be written off\\\\nWhen Djokovic lost to 20-year-old Carlos Alcaraz in the Wimbledon final it felt like a changing-of-the-guard moment in the men\\'s game.\\\\n The inside story of Putin’s invasion of Ukraine\\\\nTold by the Presidents and Prime Ministers tasked with making the critical decisions\\\\nSurvival of the wittiest!\\\\n\"}, {\\'url\\': \\'https://www.usopen.org/en_US/news/articles/2023-09-10/novak_djokovic_wins_24th_grand_slam_singles_title_at_2023_us_open.html\\', \\'content\\': \"WHAT HAPPENED: Novak Djokovic handled the weight of history to defeat Daniil Medvedev on Sunday in the 2023 US Open men\\'s singles final. With a 6-3, 7-6(5), 6-3 victory, the 36-year-old won his 24th Grand Slam singles title, tying Margaret Court\\'s record and bolstering his case to be considered the greatest tennis player of all time.\"}, {\\'url\\': \\'https://apnews.com/article/us-open-final-live-updates-djokovic-medvedev-8a4a26f8d77ef9ab2fb3efe1096dce7e\\', \\'content\\': \\'Novak Djokovic wins the US Open for his 24th Grand Slam title by beating Daniil Medvedev\\\\nNovak Djokovic, of Serbia, holds up the championship trophy after defeating Daniil Medvedev, of Russia, in the men’s singles final of the U.S. Open tennis championships, Sunday, Sept. 10, 2023, in New York. (AP Photo/Manu Fernandez)\\\\nDaniil Medvedev, of Russia, sits on the court after a rally against Novak Djokovic, of Serbia, during the men’s singles final of the U.S. Open tennis championships, Sunday, Sept. 10, 2023, in New York. (AP Photo/Manu Fernandez)\\\\nDaniil Medvedev, of Russia, sits on the court after a rally against Novak Djokovic, of Serbia, during the men’s singles final of the U.S. Open tennis championships, Sunday, Sept. 10, 2023, in New York. (AP Photo/Manu Fernandez)\\\\nDaniil Medvedev, of Russia, sits on the court after a rally against Novak Djokovic, of Serbia, during the men’s singles final of the U.S. Open tennis championships, Sunday, Sept. 10, 2023, in New York. Novak Djokovic, of Serbia, reveals a t-shirt honoring the number 24 and Kobe Bryant after defeating Daniil Medvedev, of Russia, in the men’s singles final of the U.S. Open tennis championships, Sunday, Sept. 10, 2023, in New York.\\'}]')]}"
      ]
     },
     "execution_count": 34,
     "metadata": {},
     "output_type": "execute_result"
    }
   ],
   "source": [
    "agent_executor.invoke(\n",
    "    {\"input\":\"Who is the winner of the US Open\", \"chat_history\":[]}\n",
    ")"
   ]
  },
  {
   "cell_type": "code",
   "execution_count": 35,
   "metadata": {},
   "outputs": [],
   "source": [
    "from langchain_core.pydantic_v1 import BaseModel, Field\n",
    "from typing import List, Tuple, Annotated, TypedDict\n",
    "from collections import deque\n",
    "import operator\n",
    "\n",
    "class PlanExecute(TypedDict):\n",
    "    input: str\n",
    "    plan: List[str]\n",
    "    past_steps: Annotated[List[Tuple], operator.add]\n",
    "    response: str"
   ]
  },
  {
   "cell_type": "code",
   "execution_count": 36,
   "metadata": {},
   "outputs": [],
   "source": [
    "from langchain_core.pydantic_v1 import BaseModel\n",
    "\n",
    "class Plan(BaseModel):\n",
    "    \"\"\"Plan to follow the step in the future\"\"\"\n",
    "\n",
    "    steps: List[str] = Field(\n",
    "        description=\"different steps to follow, should be in sorted order\"\n",
    "    )"
   ]
  },
  {
   "cell_type": "code",
   "execution_count": 37,
   "metadata": {},
   "outputs": [],
   "source": [
    "from langchain.chains.openai_functions import create_structured_output_runnable\n",
    "from langchain_core.prompts import ChatPromptTemplate\n",
    "\n",
    "planner_prompt = ChatPromptTemplate.from_template(\n",
    "    \"\"\"\n",
    "    For the given objective, come up with a simple step by step plan. \\\n",
    "        This plan should involve the individual tasks, that if executed correctly will yield the correct answer. Do not add any superfluous steps. \\\n",
    "        The result of the final step should be the final answer. Make sure that each step has all the information needed - do not skip the steps.\n",
    "\n",
    "        {objective}\n",
    "    \"\"\"\n",
    ")\n",
    "\n",
    "planner = create_structured_output_runnable(\n",
    "    Plan,\n",
    "    ChatOpenAI(model = \"gpt-4-turbo-preview\", temperature=0),\n",
    "    planner_prompt\n",
    ")"
   ]
  },
  {
   "cell_type": "code",
   "execution_count": 38,
   "metadata": {},
   "outputs": [
    {
     "data": {
      "text/plain": [
       "Plan(steps=['Identify the current year to determine the most recent Australia Open tournament.', 'Find out the winner of the most recent Australia Open in the identified year.', 'Research the hometown of the identified winner.'])"
      ]
     },
     "execution_count": 38,
     "metadata": {},
     "output_type": "execute_result"
    }
   ],
   "source": [
    "planner.invoke({\n",
    "    \"objective\": \"What is the hometown of the current Australia Open Winner?\"\n",
    "})"
   ]
  },
  {
   "cell_type": "code",
   "execution_count": 39,
   "metadata": {},
   "outputs": [],
   "source": [
    "from langchain.chains.openai_functions import create_openai_fn_runnable\n",
    "from langchain_core.pydantic_v1 import BaseModel\n",
    "\n",
    "class Response(BaseModel):\n",
    "    \"\"\"Response back to User.\"\"\"\n",
    "    response: str\n",
    "\n",
    "replanner_prompt = ChatPromptTemplate.from_template(\n",
    "    \"\"\"\n",
    "For the given objective, come up with a simple step by step plan.\\\n",
    "This plan should involve individual tasks, that if executed correctly will yield the correct answer. Do not add any superfluous steps. \\\n",
    "The result of the final step should be the final answer. Make sure that each step has all the information needed - do not skip the steps.\n",
    "\n",
    "Your Objective was this: \n",
    "{input}\n",
    "\n",
    "Your Original Plan was this: \n",
    "{plan}\n",
    "\n",
    "You have currently done the follow steps: \n",
    "{past_steps}\n",
    "\n",
    "Update the plan accordingly. If no more steps are needed and you can return to the user, then respond with that. Otherwise, fill out the plan. Only add steps to the plan that still NEED to be done. Do not return previously done steps as part of the plan. \n",
    "    \"\"\"\n",
    ")\n",
    "\n",
    "replanner = create_openai_fn_runnable(\n",
    "    [Plan, Response],\n",
    "    ChatOpenAI(model = \"gpt-4-turbo-preview\", temperature=0),\n",
    "    replanner_prompt,\n",
    ")"
   ]
  },
  {
   "cell_type": "code",
   "execution_count": 40,
   "metadata": {},
   "outputs": [],
   "source": [
    "async def execute_step(state: PlanExecute):\n",
    "    task = state[\"plan\"][0]\n",
    "    agent_response = await agent_executor.ainvoke({\"input\": task, \"chat_history\": []})\n",
    "    return {\n",
    "        \"past_steps\": (task, agent_response[\"agent_outcome\"].return_values[\"output\"]),\n",
    "    }\n",
    "\n",
    "async def plan_step(state: PlanExecute):\n",
    "    plan = await planner.ainvoke({\"objective\": state[\"input\"]})\n",
    "    return {\"plan\": plan.steps}\n",
    "\n",
    "async def replan_step(state: PlanExecute):\n",
    "    output = await replanner.ainvoke(state)\n",
    "    if isinstance(output, Response):\n",
    "        return {\n",
    "            \"response\": output.response\n",
    "        }\n",
    "    else: \n",
    "        return {\n",
    "            \"plan\": output.steps\n",
    "        }\n",
    "    \n",
    "def should_end(state: PlanExecute):\n",
    "    if \"response\" in state and state[\"response\"]:\n",
    "        return True\n",
    "    else:\n",
    "        return False\n",
    "    "
   ]
  },
  {
   "cell_type": "code",
   "execution_count": 41,
   "metadata": {},
   "outputs": [],
   "source": [
    "from langgraph.graph import StateGraph, END\n",
    "\n",
    "workflow = StateGraph(PlanExecute)\n",
    "\n",
    "#Add the plan node\n",
    "workflow.add_node(\"planner\", plan_step)\n",
    "\n",
    "#Add the executor_step\n",
    "workflow.add_node(\"agent\", execute_step)\n",
    "\n",
    "#Add the Replan_Node\n",
    "workflow.add_node(\"replan\", replan_step)\n",
    "\n",
    "workflow.set_entry_point(\"planner\")\n",
    "\n",
    "#From plan we will go to the agent\n",
    "workflow.add_edge(\"planner\", \"agent\")\n",
    "\n",
    "#From agent we will go to the replan\n",
    "workflow.add_edge(\"agent\", \"replan\")\n",
    "\n",
    "workflow.add_conditional_edges(\n",
    "    \"replan\",\n",
    "    #Next, we pass in the function that will determine which node is called next\n",
    "    should_end,\n",
    "    {\n",
    "        #If `tools` then we call the tool node.\n",
    "        True: END,\n",
    "        False: \"agent\",\n",
    "    },\n",
    ")\n",
    "\n",
    "app = workflow.compile()"
   ]
  },
  {
   "cell_type": "code",
   "execution_count": 46,
   "metadata": {},
   "outputs": [
    {
     "name": "stdout",
     "output_type": "stream",
     "text": [
      "Final Response: All necessary steps to automate the creation of AWS EC2 instances using Terraform have been completed, including verification of the instance creation. No further steps are needed.\n"
     ]
    }
   ],
   "source": [
    "\n",
    "from langchain_core.messages import HumanMessage\n",
    "\n",
    "config = {\"recursion_limit\": 50}\n",
    "inputs = {\"input\": \"Can you Code main.tf for Terraform for automating the instances for the AWS EC2?\"}\n",
    "async for event in app.astream(inputs, config=config):\n",
    "    for k, v in event.items():  \n",
    "        for m, n in v.items():\n",
    "            if m==\"response\":\n",
    "                print(f\"Final Response: {n}\")"
   ]
  },
  {
   "cell_type": "code",
   "execution_count": null,
   "metadata": {},
   "outputs": [],
   "source": []
  }
 ],
 "metadata": {
  "kernelspec": {
   "display_name": "Python 3 (ipykernel)",
   "language": "python",
   "name": "python3"
  },
  "language_info": {
   "codemirror_mode": {
    "name": "ipython",
    "version": 3
   },
   "file_extension": ".py",
   "mimetype": "text/x-python",
   "name": "python",
   "nbconvert_exporter": "python",
   "pygments_lexer": "ipython3",
   "version": "3.10.14"
  }
 },
 "nbformat": 4,
 "nbformat_minor": 2
}
